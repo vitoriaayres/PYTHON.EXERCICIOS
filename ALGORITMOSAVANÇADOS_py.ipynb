{
  "nbformat": 4,
  "nbformat_minor": 0,
  "metadata": {
    "colab": {
      "provenance": [],
      "authorship_tag": "ABX9TyM4wz51scby+psg5PLqMPk/",
      "include_colab_link": true
    },
    "kernelspec": {
      "name": "python3",
      "display_name": "Python 3"
    },
    "language_info": {
      "name": "python"
    }
  },
  "cells": [
    {
      "cell_type": "markdown",
      "metadata": {
        "id": "view-in-github",
        "colab_type": "text"
      },
      "source": [
        "<a href=\"https://colab.research.google.com/github/vitoriaayres/PYTHON.EXERCICIOS/blob/main/ALGORITMOSAVAN%C3%87ADOS_py.ipynb\" target=\"_parent\"><img src=\"https://colab.research.google.com/assets/colab-badge.svg\" alt=\"Open In Colab\"/></a>"
      ]
    },
    {
      "cell_type": "markdown",
      "source": [
        "###Vetor, Matriz e Lista"
      ],
      "metadata": {
        "id": "7xkPekDCBjv8"
      }
    },
    {
      "cell_type": "markdown",
      "source": [
        "\n",
        "###1\n",
        "---\n",
        "\n",
        "\n",
        "\n",
        "---\n",
        "\n"
      ],
      "metadata": {
        "id": "f8YlJ9d_yYWn"
      }
    },
    {
      "cell_type": "code",
      "source": [
        "lista = [1,2,4,6,4,3,2,4]"
      ],
      "metadata": {
        "id": "Fu6idTi3yo_r"
      },
      "execution_count": 75,
      "outputs": []
    },
    {
      "cell_type": "code",
      "execution_count": 76,
      "metadata": {
        "colab": {
          "base_uri": "https://localhost:8080/",
          "height": 0
        },
        "id": "xtMLy0cRwkmA",
        "outputId": "c42cd7dd-053f-494c-d3f7-51352806fca3"
      },
      "outputs": [
        {
          "output_type": "stream",
          "name": "stdout",
          "text": [
            "26\n"
          ]
        }
      ],
      "source": [
        "def calcular_soma_manual (lista_vatores):\n",
        "  soma = 0\n",
        "\n",
        "  for i in range(len(lista_vatores)):\n",
        "    soma+= lista_vatores[i]\n",
        "\n",
        "  return soma\n",
        "print(calcular_soma_manual(lista))\n"
      ]
    },
    {
      "cell_type": "code",
      "source": [
        "def calcular_soma_manual(lista_valores):\n",
        "  return sum(lista_valores)\n",
        "\n",
        "print(calcular_soma_manual(lista))"
      ],
      "metadata": {
        "colab": {
          "base_uri": "https://localhost:8080/",
          "height": 0
        },
        "id": "1F8V2_YEysvk",
        "outputId": "ca05d800-ed74-4a0a-d2b9-5a60664d5b00"
      },
      "execution_count": 77,
      "outputs": [
        {
          "output_type": "stream",
          "name": "stdout",
          "text": [
            "26\n"
          ]
        }
      ]
    },
    {
      "cell_type": "markdown",
      "source": [
        "###2"
      ],
      "metadata": {
        "id": "owV7eaeGy1zx"
      }
    },
    {
      "cell_type": "code",
      "source": [
        "lista = [4,6,2,1,8,9,11,64,3,88,123,56,74,2,0]"
      ],
      "metadata": {
        "id": "lk7hQMQny3W8"
      },
      "execution_count": 28,
      "outputs": []
    },
    {
      "cell_type": "code",
      "source": [
        "def num_menor_maio (lista_valores):\n",
        "  menor = lista_valores[0]\n",
        "  maior = lista_valores[0]\n",
        "  for i in range(len(lista_valores)):\n",
        "    if lista_valores[i] < menor:\n",
        "      menor = lista_valores[i]\n",
        "    if lista_valores[i] > maior:\n",
        "      maior = lista_valores[i]\n",
        "  return (menor, maior)\n",
        "\n",
        "print(num_menor_maio(lista))"
      ],
      "metadata": {
        "colab": {
          "base_uri": "https://localhost:8080/",
          "height": 0
        },
        "id": "9g2J58VdzS9K",
        "outputId": "51060b56-91da-426a-93bf-b1a66c36f612"
      },
      "execution_count": 29,
      "outputs": [
        {
          "output_type": "stream",
          "name": "stdout",
          "text": [
            "(0, 123)\n"
          ]
        }
      ]
    },
    {
      "cell_type": "code",
      "metadata": {
        "colab": {
          "base_uri": "https://localhost:8080/",
          "height": 0
        },
        "id": "ceb35dd4",
        "outputId": "bcccac51-8e06-41ba-949a-5bb2257458d6"
      },
      "source": [
        "def terceiro_menor_maior(lista_valores):\n",
        "\n",
        "  if len(lista_valores) < 3:\n",
        "    return (None, None)\n",
        "\n",
        "  lista_ordenada = sorted(lista_valores)\n",
        "  terceiro_menor = lista_ordenada[2]\n",
        "  terceiro_maior = lista_ordenada[-3]\n",
        "\n",
        "  return (terceiro_menor, terceiro_maior)\n",
        "\n",
        "print(terceiro_menor_maior(lista))\n",
        "\n",
        "lista_pequena = [1, 5]\n",
        "print(terceiro_menor_maior(lista_pequena))"
      ],
      "execution_count": 31,
      "outputs": [
        {
          "output_type": "stream",
          "name": "stdout",
          "text": [
            "(2, 74)\n",
            "(None, None)\n"
          ]
        }
      ]
    },
    {
      "cell_type": "markdown",
      "source": [
        "###3\n"
      ],
      "metadata": {
        "id": "PjC9q-_x3TMZ"
      }
    },
    {
      "cell_type": "code",
      "source": [
        "lista = [11,54,11,87,44,11,55,32,66,11]"
      ],
      "metadata": {
        "id": "KthM36Fo3Ut2"
      },
      "execution_count": 38,
      "outputs": []
    },
    {
      "cell_type": "code",
      "metadata": {
        "colab": {
          "base_uri": "https://localhost:8080/",
          "height": 0
        },
        "id": "3ec05400",
        "outputId": "a4b81aa2-8dd0-45d3-8048-9cd938425e4f"
      },
      "source": [
        "def contar_ocorrencias(lista_valores, valor):\n",
        "\n",
        "  contador = 0\n",
        "  for elemento in lista_valores:\n",
        "    if elemento == valor:\n",
        "      contador += 1\n",
        "  return contador\n",
        "\n",
        "# Testando a função com a lista existente e o valor 11\n",
        "print(f\"O valor 11 aparece {contar_ocorrencias(lista, 11)} vezes na lista.\")"
      ],
      "execution_count": 39,
      "outputs": [
        {
          "output_type": "stream",
          "name": "stdout",
          "text": [
            "O valor 11 aparece 4 vezes na lista.\n"
          ]
        }
      ]
    },
    {
      "cell_type": "code",
      "metadata": {
        "colab": {
          "base_uri": "https://localhost:8080/",
          "height": 0
        },
        "id": "0b65a361",
        "outputId": "02f56004-601d-4b37-a5d4-0b80fdd899ff"
      },
      "source": [
        "def contar_todos_ocorrencias(lista_valores):\n",
        "  contagem = {}\n",
        "  for elemento in lista_valores:\n",
        "    if elemento in contagem:\n",
        "      contagem[elemento] += 1\n",
        "    else:\n",
        "      contagem[elemento] = 1\n",
        "  return contagem\n",
        "\n",
        "\n",
        "print(\"Contagem de ocorrências para cada elemento na lista{}\")\n",
        "print(contar_todos_ocorrencias(lista))"
      ],
      "execution_count": 42,
      "outputs": [
        {
          "output_type": "stream",
          "name": "stdout",
          "text": [
            "Contagem de ocorrências para cada elemento na lista{}\n",
            "{11: 4, 54: 1, 87: 1, 44: 1, 55: 1, 32: 1, 66: 1}\n"
          ]
        }
      ]
    },
    {
      "cell_type": "markdown",
      "source": [
        "###4\n"
      ],
      "metadata": {
        "id": "1f68WOD1A3bl"
      }
    },
    {
      "cell_type": "code",
      "source": [
        "lista = [1,2,3,4,5,6,7,8,9,10]"
      ],
      "metadata": {
        "id": "wopx8CRvA5CJ"
      },
      "execution_count": 43,
      "outputs": []
    },
    {
      "cell_type": "code",
      "source": [
        "def conta_inverso (lista_valores):\n",
        "  inverso = lista_valores[::-1]\n",
        "  return inverso\n",
        "\n",
        "print(conta_inverso(lista) )"
      ],
      "metadata": {
        "colab": {
          "base_uri": "https://localhost:8080/",
          "height": 0
        },
        "id": "uLU-tED2A-SY",
        "outputId": "a0a308fa-9959-48bc-cc55-3c684ad3a5ab"
      },
      "execution_count": 45,
      "outputs": [
        {
          "output_type": "stream",
          "name": "stdout",
          "text": [
            "[10, 9, 8, 7, 6, 5, 4, 3, 2, 1]\n"
          ]
        }
      ]
    },
    {
      "cell_type": "code",
      "metadata": {
        "colab": {
          "base_uri": "https://localhost:8080/",
          "height": 0
        },
        "id": "a15864bc",
        "outputId": "b3fc7c13-a1c2-4e45-d0a0-72a8f06d919c"
      },
      "source": [
        "def inverter_manualmente(lista_valores):\n",
        "\n",
        "  lista_invertida = []\n",
        "  for i in range(len(lista_valores) - 1, -1, -1):\n",
        "    lista_invertida.append(lista_valores[i])\n",
        "  return lista_invertida\n",
        "\n",
        "# Testando a função de inversão manual\n",
        "print(\"Lista invertida manualmente:\")\n",
        "print(inverter_manualmente(lista))"
      ],
      "execution_count": 50,
      "outputs": [
        {
          "output_type": "stream",
          "name": "stdout",
          "text": [
            "Lista invertida manualmente:\n",
            "[10, 9, 8, 7, 6, 5, 4, 3, 2, 1]\n"
          ]
        }
      ]
    },
    {
      "cell_type": "code",
      "metadata": {
        "colab": {
          "base_uri": "https://localhost:8080/",
          "height": 0
        },
        "id": "43696ee0",
        "outputId": "7480066c-c601-4fef-ad27-31716ebef4ae"
      },
      "source": [
        "def inverter_com_fatiamento(lista_valores):\n",
        "\n",
        "  return lista_valores[::-1]\n",
        "\n",
        "\n",
        "print(\"Lista invertida com fatiamento:\")\n",
        "print(inverter_com_fatiamento(lista))"
      ],
      "execution_count": 51,
      "outputs": [
        {
          "output_type": "stream",
          "name": "stdout",
          "text": [
            "Lista invertida com fatiamento:\n",
            "[10, 9, 8, 7, 6, 5, 4, 3, 2, 1]\n"
          ]
        }
      ]
    },
    {
      "cell_type": "markdown",
      "source": [
        "###Vetor, Matriz e Lista"
      ],
      "metadata": {
        "id": "5WKqbo4JBeyE"
      }
    },
    {
      "cell_type": "markdown",
      "source": [
        "###1"
      ],
      "metadata": {
        "id": "kV-EdwtXBq3R"
      }
    },
    {
      "cell_type": "code",
      "source": [
        "lista_um = [1,2,3]\n",
        "lista_dois = [3,4,5,6]"
      ],
      "metadata": {
        "id": "5zp5lsugBri-"
      },
      "execution_count": 56,
      "outputs": []
    },
    {
      "cell_type": "code",
      "source": [
        "def lista_juntas (lista_um, lista_dois):\n",
        "  lista_juntas = lista_um + lista_dois\n",
        "  return lista_juntas\n",
        "\n",
        "print(lista_juntas(lista_um, lista_dois))"
      ],
      "metadata": {
        "colab": {
          "base_uri": "https://localhost:8080/",
          "height": 0
        },
        "id": "g48fMgreB3Z5",
        "outputId": "9097b3c7-2a99-411d-d76f-c7304d580094"
      },
      "execution_count": 57,
      "outputs": [
        {
          "output_type": "stream",
          "name": "stdout",
          "text": [
            "[1, 2, 3, 3, 4, 5, 6]\n"
          ]
        }
      ]
    },
    {
      "cell_type": "markdown",
      "source": [
        "##2"
      ],
      "metadata": {
        "id": "543PiMWtCZEj"
      }
    },
    {
      "cell_type": "code",
      "metadata": {
        "colab": {
          "base_uri": "https://localhost:8080/",
          "height": 0
        },
        "id": "42fa2465",
        "outputId": "dc86169f-61ed-4b6b-eb80-8b633d445925"
      },
      "source": [
        "def remover_duplicados(lista_com_duplicados):\n",
        "\n",
        "  lista_sem_duplicados = []\n",
        "  elementos_vistos = set()\n",
        "  for elemento in lista_com_duplicados:\n",
        "    if elemento not in elementos_vistos:\n",
        "      lista_sem_duplicados.append(elemento)\n",
        "      elementos_vistos.add(elemento)\n",
        "  return lista_sem_duplicados\n",
        "\n",
        "\n",
        "lista_exemplo = [1, 2, 2, 3, 4, 4, 5, 1, 6]\n",
        "print(\"Lista original:\", lista_exemplo)\n",
        "print(\"Lista sem duplicados:\", remover_duplicados(lista_exemplo))\n",
        "\n",
        "print(\"\\nLista original :\", lista)\n",
        "print(\"Lista sem duplicados:\", remover_duplicados(lista))"
      ],
      "execution_count": 59,
      "outputs": [
        {
          "output_type": "stream",
          "name": "stdout",
          "text": [
            "Lista original: [1, 2, 2, 3, 4, 4, 5, 1, 6]\n",
            "Lista sem duplicados: [1, 2, 3, 4, 5, 6]\n",
            "\n",
            "Lista original : [1, 2, 3, 4, 5, 6, 7, 8, 9, 10]\n",
            "Lista sem duplicados: [1, 2, 3, 4, 5, 6, 7, 8, 9, 10]\n"
          ]
        }
      ]
    },
    {
      "cell_type": "markdown",
      "source": [
        "###3"
      ],
      "metadata": {
        "id": "RacSVMhlCgjR"
      }
    },
    {
      "cell_type": "code",
      "metadata": {
        "colab": {
          "base_uri": "https://localhost:8080/",
          "height": 0
        },
        "id": "cdd90c99",
        "outputId": "cd348c9b-334c-41ca-fbb8-3f3fa61ff942"
      },
      "source": [
        "def quadrados_pares(lista_numeros):\n",
        "\n",
        "  return [numero**2 for numero in lista_numeros if numero % 2 == 0]\n",
        "\n",
        "# Testando a função com a lista 'lista' (do exercício 4)\n",
        "print(\"Lista original:\", lista)\n",
        "print(\"Quadrados dos números pares:\", quadrados_pares(lista))\n",
        "\n",
        "# Testando com outra lista de exemplo\n",
        "lista_exemplo_2 = [1, 2, 3, 4, 5, 6, 7, 8, 9, 10]\n",
        "print(\"\\nLista original:\", lista_exemplo_2)\n",
        "print(\"Quadrados dos números pares:\", quadrados_pares(lista_exemplo_2))"
      ],
      "execution_count": 61,
      "outputs": [
        {
          "output_type": "stream",
          "name": "stdout",
          "text": [
            "Lista original: [1, 2, 3, 4, 5, 6, 7, 8, 9, 10]\n",
            "Quadrados dos números pares: [4, 16, 36, 64, 100]\n",
            "\n",
            "Lista original: [1, 2, 3, 4, 5, 6, 7, 8, 9, 10]\n",
            "Quadrados dos números pares: [4, 16, 36, 64, 100]\n"
          ]
        }
      ]
    },
    {
      "cell_type": "markdown",
      "source": [
        "###4"
      ],
      "metadata": {
        "id": "8HjZ0woRC8T5"
      }
    },
    {
      "cell_type": "code",
      "source": [
        "import random\n",
        "\n",
        "def gerar_vetor_aleatorio(n):\n",
        "\n",
        "  vetor_aleatorio = [random.randint(1, 100) for _ in range(n)]\n",
        "  return vetor_aleatorio\n",
        "\n",
        "\n",
        "vetor = gerar_vetor_aleatorio(10)\n",
        "print(vetor)"
      ],
      "metadata": {
        "colab": {
          "base_uri": "https://localhost:8080/",
          "height": 0
        },
        "id": "wHBGpjzsC--T",
        "outputId": "46b4a21e-2997-46fd-8ef1-7020e487e710"
      },
      "execution_count": 66,
      "outputs": [
        {
          "output_type": "stream",
          "name": "stdout",
          "text": [
            "[38, 19, 1, 32, 27, 80, 13, 62, 14, 41]\n"
          ]
        }
      ]
    },
    {
      "cell_type": "markdown",
      "source": [
        "###5"
      ],
      "metadata": {
        "id": "PWVVAM49DViE"
      }
    },
    {
      "cell_type": "code",
      "metadata": {
        "colab": {
          "base_uri": "https://localhost:8080/",
          "height": 0
        },
        "id": "7f5c35eb",
        "outputId": "4ca301ab-d716-48e2-8d79-8e48b7de2f68"
      },
      "source": [
        "def gerar_matriz_identidade(n):\n",
        "\n",
        "  if n <= 0:\n",
        "    return []\n",
        "\n",
        "  matriz_identidade = []\n",
        "  for i in range(n):\n",
        "    linha = []\n",
        "    for j in range(n):\n",
        "      if i == j:\n",
        "        linha.append(1)\n",
        "      else:\n",
        "        linha.append(0)\n",
        "    matriz_identidade.append(linha)\n",
        "  return matriz_identidade\n",
        "\n",
        "\n",
        "matriz = gerar_matriz_identidade(4)\n",
        "for linha in matriz:\n",
        "  print(linha)\n",
        "\n",
        "print(\"\\nMatriz identidade de ordem 0:\")\n",
        "matriz_zero = gerar_matriz_identidade(0)\n",
        "print(matriz_zero)"
      ],
      "execution_count": 67,
      "outputs": [
        {
          "output_type": "stream",
          "name": "stdout",
          "text": [
            "[1, 0, 0, 0]\n",
            "[0, 1, 0, 0]\n",
            "[0, 0, 1, 0]\n",
            "[0, 0, 0, 1]\n",
            "\n",
            "Matriz identidade de ordem 0:\n",
            "[]\n"
          ]
        }
      ]
    },
    {
      "cell_type": "code",
      "metadata": {
        "colab": {
          "base_uri": "https://localhost:8080/",
          "height": 0
        },
        "id": "574326b5",
        "outputId": "0db63dfa-ef60-4d67-bd30-2558d67345a4"
      },
      "source": [
        "def combinar_nomes_notas(nomes, notas):\n",
        "\n",
        "  if len(nomes) != len(notas):\n",
        "    print(\"Erro: As listas de nomes e notas devem ter o mesmo tamanho.\")\n",
        "    return []\n",
        "\n",
        "  lista_combinada = []\n",
        "  for i in range(len(nomes)):\n",
        "    lista_combinada.append([nomes[i], notas[i]])\n",
        "  return lista_combinada\n",
        "\n",
        "nomes_alunos = [\"Ana\", \"Carlos\", \"João\", \"Maria\"]\n",
        "notas_alunos = [8.5, 7.0, 9.2, 6.5]\n",
        "\n",
        "lista_final = combinar_nomes_notas(nomes_alunos, notas_alunos)\n",
        "print(lista_final)\n",
        "\n",
        "\n",
        "nomes_alunos_2 = [\"Pedro\", \"Lucas\"]\n",
        "notas_alunos_2 = [10.0]\n",
        "\n",
        "lista_final_2 = combinar_nomes_notas(nomes_alunos_2, notas_alunos_2)\n",
        "print(lista_final_2)"
      ],
      "execution_count": 71,
      "outputs": [
        {
          "output_type": "stream",
          "name": "stdout",
          "text": [
            "[['Ana', 8.5], ['Carlos', 7.0], ['João', 9.2], ['Maria', 6.5]]\n",
            "Erro: As listas de nomes e notas devem ter o mesmo tamanho.\n",
            "[]\n"
          ]
        }
      ]
    }
  ]
}